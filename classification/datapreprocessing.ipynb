{
  "nbformat": 4,
  "nbformat_minor": 0,
  "metadata": {
    "colab": {
      "provenance": []
    },
    "kernelspec": {
      "name": "python3",
      "display_name": "Python 3"
    },
    "language_info": {
      "name": "python"
    }
  },
  "cells": [
    {
      "cell_type": "code",
      "execution_count": 2,
      "metadata": {
        "colab": {
          "base_uri": "https://localhost:8080/"
        },
        "id": "CP359LyVlF4n",
        "outputId": "6786ff24-7eb4-4daf-befb-023acccdd728"
      },
      "outputs": [
        {
          "output_type": "stream",
          "name": "stdout",
          "text": [
            "Requirement already satisfied: scikit-learn in /usr/local/lib/python3.10/dist-packages (1.5.2)\n",
            "Requirement already satisfied: numpy>=1.19.5 in /usr/local/lib/python3.10/dist-packages (from scikit-learn) (1.26.4)\n",
            "Requirement already satisfied: scipy>=1.6.0 in /usr/local/lib/python3.10/dist-packages (from scikit-learn) (1.13.1)\n",
            "Requirement already satisfied: joblib>=1.2.0 in /usr/local/lib/python3.10/dist-packages (from scikit-learn) (1.4.2)\n",
            "Requirement already satisfied: threadpoolctl>=3.1.0 in /usr/local/lib/python3.10/dist-packages (from scikit-learn) (3.5.0)\n",
            "Requirement already satisfied: pandas in /usr/local/lib/python3.10/dist-packages (2.2.2)\n",
            "Requirement already satisfied: numpy>=1.22.4 in /usr/local/lib/python3.10/dist-packages (from pandas) (1.26.4)\n",
            "Requirement already satisfied: python-dateutil>=2.8.2 in /usr/local/lib/python3.10/dist-packages (from pandas) (2.8.2)\n",
            "Requirement already satisfied: pytz>=2020.1 in /usr/local/lib/python3.10/dist-packages (from pandas) (2024.2)\n",
            "Requirement already satisfied: tzdata>=2022.7 in /usr/local/lib/python3.10/dist-packages (from pandas) (2024.2)\n",
            "Requirement already satisfied: six>=1.5 in /usr/local/lib/python3.10/dist-packages (from python-dateutil>=2.8.2->pandas) (1.16.0)\n"
          ]
        }
      ],
      "source": [
        "!pip install scikit-learn\n",
        "!pip install pandas"
      ]
    },
    {
      "cell_type": "code",
      "source": [
        "import pandas as pd\n",
        "import numpy as np\n",
        "from sklearn.preprocessing import LabelEncoder, OneHotEncoder, StandardScaler, MinMaxScaler\n",
        "\n",
        "# Generate random dataset\n",
        "data = {\n",
        "    'Category': np.random.choice(['A', 'B', 'C', 'D'], size=10),  # Categorical column\n",
        "    'Value1': np.random.randint(1, 100, size=10),  # Numerical column\n",
        "    'Value2': np.random.choice([None, 10, 20, 30, 40], size=10),  # Numerical column with missing values\n",
        "}\n",
        "df = pd.DataFrame(data)\n",
        "\n",
        "print(\"Initial Dataset:\\n\", df)"
      ],
      "metadata": {
        "colab": {
          "base_uri": "https://localhost:8080/"
        },
        "id": "zG4vVQpSmPnj",
        "outputId": "42348aed-9d2c-4fa3-e855-50983b01ff6d"
      },
      "execution_count": 3,
      "outputs": [
        {
          "output_type": "stream",
          "name": "stdout",
          "text": [
            "Initial Dataset:\n",
            "   Category  Value1 Value2\n",
            "0        A      26     30\n",
            "1        C      73   None\n",
            "2        A      25     20\n",
            "3        A      62     40\n",
            "4        B      39     30\n",
            "5        A       8   None\n",
            "6        A      88     40\n",
            "7        D      55     30\n",
            "8        A      55     30\n",
            "9        D      66     20\n"
          ]
        }
      ]
    },
    {
      "cell_type": "code",
      "source": [
        "# Fill missing values with the mean\n",
        "print(\"\\n--- Handling Missing Values ---\")\n",
        "print(\"Before Filling Missing Values:\\n\", df)\n",
        "\n",
        "df['Value2'] = df['Value2'].fillna(df['Value2'].mean())\n",
        "print(\"After Filling Missing Values:\\n\", df)"
      ],
      "metadata": {
        "colab": {
          "base_uri": "https://localhost:8080/"
        },
        "id": "iByID4c9mcbX",
        "outputId": "46d4e6fb-1bd9-4b86-eb2b-bc7717ca9778"
      },
      "execution_count": 4,
      "outputs": [
        {
          "output_type": "stream",
          "name": "stdout",
          "text": [
            "\n",
            "--- Handling Missing Values ---\n",
            "Before Filling Missing Values:\n",
            "   Category  Value1 Value2\n",
            "0        A      26     30\n",
            "1        C      73   None\n",
            "2        A      25     20\n",
            "3        A      62     40\n",
            "4        B      39     30\n",
            "5        A       8   None\n",
            "6        A      88     40\n",
            "7        D      55     30\n",
            "8        A      55     30\n",
            "9        D      66     20\n",
            "After Filling Missing Values:\n",
            "   Category  Value1  Value2\n",
            "0        A      26    30.0\n",
            "1        C      73    30.0\n",
            "2        A      25    20.0\n",
            "3        A      62    40.0\n",
            "4        B      39    30.0\n",
            "5        A       8    30.0\n",
            "6        A      88    40.0\n",
            "7        D      55    30.0\n",
            "8        A      55    30.0\n",
            "9        D      66    20.0\n"
          ]
        },
        {
          "output_type": "stream",
          "name": "stderr",
          "text": [
            "<ipython-input-4-328414d30388>:5: FutureWarning: Downcasting object dtype arrays on .fillna, .ffill, .bfill is deprecated and will change in a future version. Call result.infer_objects(copy=False) instead. To opt-in to the future behavior, set `pd.set_option('future.no_silent_downcasting', True)`\n",
            "  df['Value2'] = df['Value2'].fillna(df['Value2'].mean())\n"
          ]
        }
      ]
    },
    {
      "cell_type": "code",
      "source": [
        "# Apply Label Encoding\n",
        "print(\"\\n--- Label Encoding ---\")\n",
        "print(\"Before Label Encoding:\\n\", df)\n",
        "\n",
        "label_encoder = LabelEncoder()\n",
        "df['Category_LabelEncoded'] = label_encoder.fit_transform(df['Category'])\n",
        "print(\"After Label Encoding:\\n\", df)"
      ],
      "metadata": {
        "colab": {
          "base_uri": "https://localhost:8080/"
        },
        "id": "Fw5QgiQOmhSq",
        "outputId": "094bce23-17dc-4461-94cb-46b4a6d7c92d"
      },
      "execution_count": 5,
      "outputs": [
        {
          "output_type": "stream",
          "name": "stdout",
          "text": [
            "\n",
            "--- Label Encoding ---\n",
            "Before Label Encoding:\n",
            "   Category  Value1  Value2\n",
            "0        A      26    30.0\n",
            "1        C      73    30.0\n",
            "2        A      25    20.0\n",
            "3        A      62    40.0\n",
            "4        B      39    30.0\n",
            "5        A       8    30.0\n",
            "6        A      88    40.0\n",
            "7        D      55    30.0\n",
            "8        A      55    30.0\n",
            "9        D      66    20.0\n",
            "After Label Encoding:\n",
            "   Category  Value1  Value2  Category_LabelEncoded\n",
            "0        A      26    30.0                      0\n",
            "1        C      73    30.0                      2\n",
            "2        A      25    20.0                      0\n",
            "3        A      62    40.0                      0\n",
            "4        B      39    30.0                      1\n",
            "5        A       8    30.0                      0\n",
            "6        A      88    40.0                      0\n",
            "7        D      55    30.0                      3\n",
            "8        A      55    30.0                      0\n",
            "9        D      66    20.0                      3\n"
          ]
        }
      ]
    },
    {
      "cell_type": "code",
      "source": [
        "# Apply One-Hot Encoding\n",
        "print(\"\\n--- One-Hot Encoding ---\")\n",
        "print(\"Before One-Hot Encoding:\\n\", df)\n",
        "\n",
        "one_hot_encoded = pd.get_dummies(df['Category'], prefix='Category')\n",
        "df = pd.concat([df, one_hot_encoded], axis=1)\n",
        "print(\"After One-Hot Encoding:\\n\", df)"
      ],
      "metadata": {
        "colab": {
          "base_uri": "https://localhost:8080/"
        },
        "id": "_BMTVR6SmjsN",
        "outputId": "f79d423c-7a78-4aac-ad60-e3f3cfc58aec"
      },
      "execution_count": 6,
      "outputs": [
        {
          "output_type": "stream",
          "name": "stdout",
          "text": [
            "\n",
            "--- One-Hot Encoding ---\n",
            "Before One-Hot Encoding:\n",
            "   Category  Value1  Value2  Category_LabelEncoded\n",
            "0        A      26    30.0                      0\n",
            "1        C      73    30.0                      2\n",
            "2        A      25    20.0                      0\n",
            "3        A      62    40.0                      0\n",
            "4        B      39    30.0                      1\n",
            "5        A       8    30.0                      0\n",
            "6        A      88    40.0                      0\n",
            "7        D      55    30.0                      3\n",
            "8        A      55    30.0                      0\n",
            "9        D      66    20.0                      3\n",
            "After One-Hot Encoding:\n",
            "   Category  Value1  Value2  Category_LabelEncoded  Category_A  Category_B  \\\n",
            "0        A      26    30.0                      0        True       False   \n",
            "1        C      73    30.0                      2       False       False   \n",
            "2        A      25    20.0                      0        True       False   \n",
            "3        A      62    40.0                      0        True       False   \n",
            "4        B      39    30.0                      1       False        True   \n",
            "5        A       8    30.0                      0        True       False   \n",
            "6        A      88    40.0                      0        True       False   \n",
            "7        D      55    30.0                      3       False       False   \n",
            "8        A      55    30.0                      0        True       False   \n",
            "9        D      66    20.0                      3       False       False   \n",
            "\n",
            "   Category_C  Category_D  \n",
            "0       False       False  \n",
            "1        True       False  \n",
            "2       False       False  \n",
            "3       False       False  \n",
            "4       False       False  \n",
            "5       False       False  \n",
            "6       False       False  \n",
            "7       False        True  \n",
            "8       False       False  \n",
            "9       False        True  \n"
          ]
        }
      ]
    },
    {
      "cell_type": "code",
      "source": [
        "# Apply Standard Scaling\n",
        "print(\"\\n--- Standard Scaling ---\")\n",
        "scaler = StandardScaler()\n",
        "columns_to_scale = ['Value1', 'Value2']\n",
        "print(\"Before Standard Scaling:\\n\", df[columns_to_scale])\n",
        "\n",
        "df_scaled = scaler.fit_transform(df[columns_to_scale])\n",
        "scaled_df = pd.DataFrame(df_scaled, columns=[f\"{col}_StandardScaled\" for col in columns_to_scale])\n",
        "df = pd.concat([df, scaled_df], axis=1)\n",
        "print(\"After Standard Scaling:\\n\", scaled_df)"
      ],
      "metadata": {
        "colab": {
          "base_uri": "https://localhost:8080/"
        },
        "id": "jRRKA5cimmak",
        "outputId": "ea4afb63-e8ed-4097-f381-39bbe4dea4f6"
      },
      "execution_count": 7,
      "outputs": [
        {
          "output_type": "stream",
          "name": "stdout",
          "text": [
            "\n",
            "--- Standard Scaling ---\n",
            "Before Standard Scaling:\n",
            "    Value1  Value2\n",
            "0      26    30.0\n",
            "1      73    30.0\n",
            "2      25    20.0\n",
            "3      62    40.0\n",
            "4      39    30.0\n",
            "5       8    30.0\n",
            "6      88    40.0\n",
            "7      55    30.0\n",
            "8      55    30.0\n",
            "9      66    20.0\n",
            "After Standard Scaling:\n",
            "    Value1_StandardScaled  Value2_StandardScaled\n",
            "0              -1.009828               0.000000\n",
            "1               0.992785               0.000000\n",
            "2              -1.052437              -1.581139\n",
            "3               0.524088               1.581139\n",
            "4              -0.455914               0.000000\n",
            "5              -1.776786               0.000000\n",
            "6               1.631916               1.581139\n",
            "7               0.225827               0.000000\n",
            "8               0.225827               0.000000\n",
            "9               0.694523              -1.581139\n"
          ]
        }
      ]
    },
    {
      "cell_type": "code",
      "source": [
        "  # Apply Normalization\n",
        "print(\"\\n--- Normalization ---\")\n",
        "normalizer = MinMaxScaler()\n",
        "print(\"Before Normalization:\\n\", df[columns_to_scale])\n",
        "\n",
        "normalized_data = normalizer.fit_transform(df[columns_to_scale])\n",
        "normalized_df = pd.DataFrame(normalized_data, columns=[f\"{col}_Normalized\" for col in columns_to_scale])\n",
        "df = pd.concat([df, normalized_df], axis=1)\n",
        "print(\"After Normalization:\\n\", normalized_df)\n"
      ],
      "metadata": {
        "colab": {
          "base_uri": "https://localhost:8080/"
        },
        "id": "GiluUNXGmp9J",
        "outputId": "22b8fc13-75c3-42be-b0bd-95e5e6be0ef1"
      },
      "execution_count": 9,
      "outputs": [
        {
          "output_type": "stream",
          "name": "stdout",
          "text": [
            "\n",
            "--- Normalization ---\n",
            "Before Normalization:\n",
            "    Value1  Value2\n",
            "0      26    30.0\n",
            "1      73    30.0\n",
            "2      25    20.0\n",
            "3      62    40.0\n",
            "4      39    30.0\n",
            "5       8    30.0\n",
            "6      88    40.0\n",
            "7      55    30.0\n",
            "8      55    30.0\n",
            "9      66    20.0\n",
            "After Normalization:\n",
            "    Value1_Normalized  Value2_Normalized\n",
            "0             0.2250                0.5\n",
            "1             0.8125                0.5\n",
            "2             0.2125                0.0\n",
            "3             0.6750                1.0\n",
            "4             0.3875                0.5\n",
            "5             0.0000                0.5\n",
            "6             1.0000                1.0\n",
            "7             0.5875                0.5\n",
            "8             0.5875                0.5\n",
            "9             0.7250                0.0\n"
          ]
        }
      ]
    }
  ]
}